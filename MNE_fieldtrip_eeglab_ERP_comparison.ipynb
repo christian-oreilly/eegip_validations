{
 "cells": [
  {
   "cell_type": "code",
   "execution_count": 12,
   "metadata": {},
   "outputs": [],
   "source": [
    "import mne\n",
    "from mne.io import read_raw_eeglab\n",
    "from eegip.preprocessing import preprocess, mark_bad_channels, add_bad_segment_annot, remove_rejected_ica_components\n",
    "import numpy as np\n",
    "import matplotlib.pylab as plt\n",
    "import matlab.engine\n",
    "from pathlib import Path"
   ]
  },
  {
   "cell_type": "code",
   "execution_count": 13,
   "metadata": {},
   "outputs": [],
   "source": [
    "subject = '602'\n",
    "path = '/media/christian/seagate/eegip/london/derivatives/lossless/'\n",
    "path = path + 'sub-s{subject}/ses-m06/eeg/sub-s{subject}_ses-m06_eeg_qcr.set'.format(subject=subject)"
   ]
  },
  {
   "cell_type": "markdown",
   "metadata": {},
   "source": [
    "### Computing ERP in EEGLAB and Fieldtrip using the MATLAB engine"
   ]
  },
  {
   "cell_type": "code",
   "execution_count": 14,
   "metadata": {},
   "outputs": [],
   "source": [
    "matlab_script = \"\"\"\n",
    "%% EEGLAB\n",
    "subject = '{subject}';\n",
    "\n",
    "file = '{path}';\n",
    "\n",
    "EEG = pop_loadset('filename', file);\n",
    "EEG = eeg_checkset(EEG);\n",
    "%purge all channels, time, and components that were flagged...\n",
    "EEG = pop_marks_select_data(EEG, 'channel marks',[],'labels',{{'manual', 'rank'}}, 'remove','on');\n",
    "EEG = pop_marks_select_data(EEG, 'time marks', [], 'labels', {{'manual'}}, 'remove', 'on');\n",
    "EEG = pop_marks_select_data(EEG, 'component marks', [], 'labels', {{'manual'}}, 'remove', 'on');\n",
    "\n",
    "filename = ['sub-s' subject '_ses-m06_eeg_cleaned.set'];\n",
    "pop_saveset(EEG, 'filename', filename);\n",
    "\n",
    "eeglab_epochs = pop_epoch(EEG, {{'noisO'}}, [-0.2, 1.0]);\n",
    "\n",
    "%% Fieldtrip\n",
    "cfg                         = [];\n",
    "cfg.dataset                 = filename;\n",
    "cfg.trialfun                = 'ft_trialfun_general'; % this is the default\n",
    "cfg.trialdef.eventtype      = 'trigger';\n",
    "cfg.trialdef.prestim        = 0.2; % in seconds\n",
    "cfg.trialdef.poststim       = 1.0; % in seconds\n",
    "\n",
    "cfg.trialdef.eventvalue     = {{'noisO'}};\n",
    "cfg_noise = ft_definetrial(cfg);\n",
    "\n",
    "cfg_noise.demean          = 'no';\n",
    "cfg_noise.lpfilter        = 'no'; \n",
    "%cfg_noise.demean          = 'yes';\n",
    "%cfg_noise.baselinewindow  = [-1.0 0];\n",
    "%cfg_noise.lpfilter        = 'yes'; \n",
    "%cfg_noise.lpfreq          = 45.0;\n",
    "data_noise = ft_preprocessing(cfg_noise);\n",
    "\n",
    "%% Dealing with discontinuities\n",
    "starts = [];\n",
    "ends = [];\n",
    "for noevent=1:length(cfg_noise.event)\n",
    "    if strcmp(cfg_noise.event(noevent).value, 'boundary')\n",
    "        starts = [starts; cfg_noise.event(noevent).sample];\n",
    "        ends = [ends; cfg_noise.event(noevent).sample + 1];\n",
    "        %ends = [ends; cfg_noise.event(noevent).sample + cfg_noise.event(noevent).duration];\n",
    "    end\n",
    "end\n",
    "cfg.artfctdef.reject          = 'complete'\n",
    "cfg.artfctdef.jump.artifact   = [starts ends]\n",
    "data_noise = ft_rejectartifact(cfg, data_noise)\n",
    "\n",
    "selchan = ft_channelselection({{'all'}}, data_noise.label);\n",
    "cfg = [];\n",
    "cfg.channel = selchan;\n",
    "\n",
    "data_noise = ft_selectdata(cfg, data_noise);\n",
    "\n",
    "cfg = [];\n",
    "cfg.covariance = 'yes';\n",
    "cfg.covariancewindow = [-inf 0]; %it will calculate the covariance matrix\n",
    "                               % on the timepoints that are\n",
    "                               % before the zero-time point in the trials\n",
    "cfg.keeptrials = 'yes';\n",
    "\n",
    "tlck_noise = ft_timelockanalysis(cfg, data_noise);\n",
    "\n",
    "\n",
    "fieldtrip_size = size(tlck_noise.trial);\n",
    "eeglab_size = size(eeglab_epochs.data, [3, 1, 2]);\n",
    "\n",
    "fieldtrip_ts = squeeze(mean(tlck_noise.trial, [1, 2]));\n",
    "eeglab_ts = mean(eeglab_epochs.data, [1, 3]);\n",
    "\"\"\"\n",
    "\n",
    "matlab_script = matlab_script.format(subject=subject, path=path)\n",
    "\n",
    "with open(\"test_erp_eeglab_fieldtrip.m\",\"w+\") as f:\n",
    "    f.write(matlab_script)\n",
    "\n",
    "eng = matlab.engine.start_matlab()\n",
    "eng.test_erp_eeglab_fieldtrip(nargout=0)"
   ]
  },
  {
   "cell_type": "code",
   "execution_count": 15,
   "metadata": {},
   "outputs": [],
   "source": [
    "fieldtrip_ts = np.squeeze(np.array(eng.workspace['fieldtrip_ts']))\n",
    "eeglab_ts = np.squeeze(np.array(eng.workspace['eeglab_ts']))\n",
    "\n",
    "fieldtrip_size = np.squeeze(np.array(eng.workspace['fieldtrip_size'])).astype(int)\n",
    "eeglab_size = np.squeeze(np.array(eng.workspace['eeglab_size'])).astype(int)"
   ]
  },
  {
   "cell_type": "markdown",
   "metadata": {},
   "source": [
    "### Computing ERP in MNE using the MATLAB engine"
   ]
  },
  {
   "cell_type": "markdown",
   "metadata": {},
   "source": [
    "#### WITH ICA REJECTION DONE IN MNE"
   ]
  },
  {
   "cell_type": "code",
   "execution_count": 16,
   "metadata": {},
   "outputs": [
    {
     "name": "stdout",
     "output_type": "stream",
     "text": [
      "Reading /media/christian/seagate/eegip/london/derivatives/lossless/sub-s602/ses-m06/eeg/sub-s602_ses-m06_eeg_qcr.fdt\n",
      "Reading 0 ... 240999  =      0.000 ...   481.998 secs...\n",
      "############ file_name /media/christian/seagate/eegip/london/derivatives/lossless/sub-s602/ses-m06/eeg/sub-s602_ses-m06_eeg_qcr.set <class 'str'>\n",
      "############ raw_eeg dict_keys(['setname', 'filename', 'filepath', 'subject', 'group', 'condition', 'session', 'comments', 'nbchan', 'trials', 'pnts', 'srate', 'xmin', 'xmax', 'times', 'data', 'icaact', 'icawinv', 'icasphere', 'icaweights', 'icachansind', 'chanlocs', 'urchanlocs', 'chaninfo', 'ref', 'event', 'urevent', 'eventdescription', 'epoch', 'epochdescription', 'reject', 'stats', 'specdata', 'specicaact', 'splinefile', 'icasplinefile', 'dipfit', 'history', 'saved', 'etc', 'datfile', 'marks', 'amica']) <class 'mne.utils._bunch.Bunch'>\n",
      "Transforming to ICA space (107 components)\n",
      "Zeroing out 42 ICA components\n",
      "374 matching events found\n",
      "No baseline correction applied\n",
      "Not setting metadata\n",
      "0 projection items activated\n",
      "Loading data for 374 events and 600 original time points ...\n",
      "152 bad epochs dropped\n"
     ]
    }
   ],
   "source": [
    "preprocessed_raw = read_raw_eeglab(path, preload=True)\n",
    "\n",
    "montage = mne.channels.make_standard_montage(\"GSN-HydroCel-129\")\n",
    "\n",
    "preprocessed_raw.set_montage(montage)\n",
    "\n",
    "mark_bad_channels(preprocessed_raw, path)\n",
    "add_bad_segment_annot(preprocessed_raw, path)\n",
    "remove_rejected_ica_components(preprocessed_raw, path, inplace=True)\n",
    "\n",
    "freq = preprocessed_raw.info[\"sfreq\"]\n",
    "\n",
    "annot_map = {'sta1': 'faces',\n",
    "             'sta2': 'faces', 'sta3': 'faces',\n",
    "             'dyn1': 'faces',\n",
    "             'dyn2': 'faces', 'dyn3': 'faces',\n",
    "             'noisO': 'noise'}\n",
    "\n",
    "filtered_event_id = {\"faces\" : 11,\n",
    "                     \"noise\" : 12}\n",
    "\n",
    "annot_sample = []\n",
    "annot_id = []\n",
    "for a in preprocessed_raw.annotations:\n",
    "    if a[\"description\"] in annot_map:\n",
    "        annot_sample.append(int(a[\"onset\"] * freq))\n",
    "        annot_id.append(filtered_event_id[annot_map[a[\"description\"]]])\n",
    "\n",
    "events = np.array([annot_sample, [0] * len(annot_sample), annot_id], dtype=int).T\n",
    "\n",
    "tmin = -0.2\n",
    "tmax = 1.0\n",
    "\n",
    "epochs = mne.Epochs(preprocessed_raw, events, filtered_event_id, tmin=tmin,\n",
    "                                  tmax=tmax-1.0/freq, baseline=None, preload=True, reject_by_annotation=True)\n",
    "\n",
    "mne_data = epochs[\"noise\"].get_data()\n",
    "mne_data = mne_data[:, mne.pick_types(epochs.info, eeg=True, exclude=\"bads\"), :]\n",
    "mne_ts = mne_data.mean(0).mean(0)"
   ]
  },
  {
   "cell_type": "markdown",
   "metadata": {},
   "source": [
    "#### WITH ICA REJECTION DONE IN EEGLAB"
   ]
  },
  {
   "cell_type": "code",
   "execution_count": 17,
   "metadata": {},
   "outputs": [
    {
     "name": "stdout",
     "output_type": "stream",
     "text": [
      "Reading sub-s602_ses-m06_eeg_cleaned.fdt\n",
      "Reading 0 ... 160999  =      0.000 ...   321.998 secs...\n",
      "249 matching events found\n",
      "No baseline correction applied\n",
      "Not setting metadata\n",
      "0 projection items activated\n",
      "Loading data for 249 events and 600 original time points ...\n"
     ]
    },
    {
     "name": "stderr",
     "output_type": "stream",
     "text": [
      "<ipython-input-17-60f87081a3b6>:2: RuntimeWarning: Limited 3 annotation(s) that were expanding outside the data range.\n",
      "  preprocessed_raw = read_raw_eeglab(path_cleaned, preload=True)\n",
      "<ipython-input-17-60f87081a3b6>:2: RuntimeWarning: The data contains 'boundary' events, indicating data discontinuities. Be cautious of filtering and epoching around these events.\n",
      "  preprocessed_raw = read_raw_eeglab(path_cleaned, preload=True)\n"
     ]
    },
    {
     "name": "stdout",
     "output_type": "stream",
     "text": [
      "27 bad epochs dropped\n"
     ]
    }
   ],
   "source": [
    "path_cleaned = str(Path(path).name.replace(\"qcr\", \"cleaned\"))\n",
    "preprocessed_raw = read_raw_eeglab(path_cleaned, preload=True)\n",
    "\n",
    "montage = mne.channels.make_standard_montage(\"GSN-HydroCel-129\")\n",
    "preprocessed_raw.set_montage(montage)\n",
    "\n",
    "freq = preprocessed_raw.info[\"sfreq\"]\n",
    "\n",
    "annot_map = {'sta1': 'faces',\n",
    "             'sta2': 'faces', 'sta3': 'faces',\n",
    "             'dyn1': 'faces',\n",
    "             'dyn2': 'faces', 'dyn3': 'faces',\n",
    "             'noisO': 'noise'}\n",
    "\n",
    "filtered_event_id = {\"faces\" : 11,\n",
    "                     \"noise\" : 12}\n",
    "\n",
    "annot_sample = []\n",
    "annot_id = []\n",
    "for a in preprocessed_raw.annotations:\n",
    "    if a[\"description\"] in annot_map:\n",
    "        annot_sample.append(int(a[\"onset\"] * freq))\n",
    "        annot_id.append(filtered_event_id[annot_map[a[\"description\"]]])\n",
    "\n",
    "onsets = [a[\"onset\"] for a in preprocessed_raw.annotations if a[\"description\"] == 'boundary']\n",
    "#durations = [a[\"duration\"] for a in preprocessed_raw.annotations if a[\"description\"] == 'boundary']\n",
    "durations = [0 for a in preprocessed_raw.annotations if a[\"description\"] == 'boundary']\n",
    "discontinuities = mne.Annotations(onset=onsets,\n",
    "                           duration=durations,\n",
    "                           description=[\"BAD_boundary\"]*len(durations))        \n",
    "preprocessed_raw.set_annotations(preprocessed_raw.annotations + discontinuities)\n",
    "\n",
    "events = np.array([annot_sample, [0] * len(annot_sample), annot_id], dtype=int).T\n",
    "\n",
    "tmin = -0.2\n",
    "tmax = 1.0\n",
    "\n",
    "epochs_cleaned = mne.Epochs(preprocessed_raw, events, filtered_event_id, tmin=tmin,\n",
    "                            tmax=tmax-1.0/freq, baseline=None, preload=True, \n",
    "                            reject_by_annotation=True)\n",
    "\n",
    "mne_cleaned_data = epochs_cleaned[\"noise\"].get_data()\n",
    "mne_cleaned_data = mne_cleaned_data[:, mne.pick_types(epochs_cleaned.info, eeg=True, exclude=\"bads\"), :]\n",
    "mne_cleaned_ts = mne_cleaned_data.mean(0).mean(0)"
   ]
  },
  {
   "cell_type": "markdown",
   "metadata": {},
   "source": [
    "### Overlaying the ERP from Fieldtrip, EEGLAB, and MNE"
   ]
  },
  {
   "cell_type": "code",
   "execution_count": 18,
   "metadata": {},
   "outputs": [
    {
     "data": {
      "text/plain": [
       "Text(0.5, 0, 'time (s)')"
      ]
     },
     "execution_count": 18,
     "metadata": {},
     "output_type": "execute_result"
    },
    {
     "data": {
      "image/png": "[encoded data removed]",
      "text/plain": [
       "<Figure size 432x288 with 1 Axes>"
      ]
     },
     "metadata": {
      "needs_background": "light"
     },
     "output_type": "display_data"
    }
   ],
   "source": [
    "plt.figure()\n",
    "plt.plot(epochs.times, fieldtrip_ts, label=\"Fieldtrip\")\n",
    "plt.plot(epochs.times, eeglab_ts, label=\"EEGLAB\")\n",
    "plt.plot(epochs.times, mne_ts*1e6, label=\"MNE-MNE_ICA\")\n",
    "plt.plot(epochs.times, mne_cleaned_ts*1e6, label=\"MNE-EEGLAB_ICA\")\n",
    "plt.legend()\n",
    "plt.xlabel(\"time (s)\")"
   ]
  },
  {
   "cell_type": "code",
   "execution_count": 19,
   "metadata": {},
   "outputs": [
    {
     "name": "stdout",
     "output_type": "stream",
     "text": [
      "Fieldtrip epoch data shape:  (21, 107, 600)\n",
      "EEGLAB epoch data shape:  (21, 107, 600)\n",
      "MNE (MNE ICA rejection) epoch data shape:  (21, 107, 600)\n",
      "MNE (EEGLAB ICA rejection) epoch data shape:  (21, 107, 600)\n"
     ]
    }
   ],
   "source": [
    "print(\"Fieldtrip epoch data shape: \", tuple(fieldtrip_size.astype(int)))\n",
    "print(\"EEGLAB epoch data shape: \", tuple(eeglab_size))\n",
    "print(\"MNE (MNE ICA rejection) epoch data shape: \", mne_data.shape)\n",
    "print(\"MNE (EEGLAB ICA rejection) epoch data shape: \", mne_cleaned_data.shape)"
   ]
  }
 ],
 "metadata": {
  "kernelspec": {
   "display_name": "Python 3",
   "language": "python",
   "name": "python3"
  },
  "language_info": {
   "codemirror_mode": {
    "name": "ipython",
    "version": 3
   },
   "file_extension": ".py",
   "mimetype": "text/x-python",
   "name": "python",
   "nbconvert_exporter": "python",
   "pygments_lexer": "ipython3",
   "version": "3.7.7"
  }
 },
 "nbformat": 4,
 "nbformat_minor": 4
}
